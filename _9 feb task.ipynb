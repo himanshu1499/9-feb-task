{
 "cells": [
  {
   "cell_type": "markdown",
   "id": "67f3df62-18a6-4fe9-8baa-9df94e4307f6",
   "metadata": {},
   "source": [
    "# what is methos overriding in python? write a code for it."
   ]
  },
  {
   "cell_type": "code",
   "execution_count": null,
   "id": "3d7bcaff-9256-48fb-8cad-8ca51778fe78",
   "metadata": {},
   "outputs": [],
   "source": [
    "  it is an ability of any object-oriented programming language that allows a subclass or child class to provide a specific implementation of a method that is already provided by one of its super-classes or parent classes.\n",
    "    When a method in a subclass has the same name, same parameters or signature and same return type(or sub-type) as a method in its super-class, \n",
    "then the method in the subclass is said to override the method in the super-class."
   ]
  },
  {
   "cell_type": "code",
   "execution_count": 5,
   "id": "2c614097-d10e-4cf5-af6b-7095062affb0",
   "metadata": {},
   "outputs": [],
   "source": [
    "class Parent():\n",
    "      \n",
    "    \n",
    "    def __init__(self):\n",
    "        self.value = \"Inside Parent\"\n",
    "          \n",
    "    \n",
    "    def show(self):\n",
    "        print(self.value)\n",
    "          \n",
    "\n",
    "class Child(Parent):\n",
    "      \n",
    "    \n",
    "    def __init__(self):\n",
    "        self.value = \"Inside Child\"\n",
    "          \n",
    "    \n",
    "    def show(self):\n",
    "        print(self.value)\n",
    "          \n"
   ]
  },
  {
   "cell_type": "code",
   "execution_count": 2,
   "id": "4e851fe6-1e7f-4588-8dab-a41180aa7057",
   "metadata": {},
   "outputs": [],
   "source": [
    "obj1 = Parent()\n",
    "obj2 = Child()"
   ]
  },
  {
   "cell_type": "code",
   "execution_count": 3,
   "id": "f56ba705-f92e-4cd9-a5e0-bde155a152d5",
   "metadata": {},
   "outputs": [
    {
     "name": "stdout",
     "output_type": "stream",
     "text": [
      "Inside Parent\n"
     ]
    }
   ],
   "source": [
    "obj1.show()"
   ]
  },
  {
   "cell_type": "code",
   "execution_count": 4,
   "id": "15d15244-8acd-4255-a6e9-e6b690ad3e34",
   "metadata": {},
   "outputs": [
    {
     "name": "stdout",
     "output_type": "stream",
     "text": [
      "Inside Child\n"
     ]
    }
   ],
   "source": [
    "obj2.show()"
   ]
  },
  {
   "cell_type": "markdown",
   "id": "ad231732-f4cc-47c8-8549-5cfe148793c1",
   "metadata": {},
   "source": [
    "# what are getter and setter in python? create a class and create a getter and a setter method in this"
   ]
  },
  {
   "cell_type": "code",
   "execution_count": null,
   "id": "395cef6a-8bb8-4219-8bc0-214d31f952d2",
   "metadata": {},
   "outputs": [],
   "source": [
    "We use getters & setters to add validation logic around getting and setting a value.\n",
    "To avoid direct access of a class field i.e. \n",
    "private variables cannot be accessed directly or modified by external user.\n",
    "\n",
    "getter is used to access an attribute in a given class\n",
    "\n",
    "setter is used to  set or mutate the value of an attribute in a class"
   ]
  },
  {
   "cell_type": "code",
   "execution_count": 7,
   "id": "ed368126-5048-4f99-8d38-8930e1adc821",
   "metadata": {},
   "outputs": [
    {
     "name": "stdout",
     "output_type": "stream",
     "text": [
      "21\n",
      "21\n"
     ]
    }
   ],
   "source": [
    "class age:\n",
    "    def __init__(self, age = 0):\n",
    "         self._age = age\n",
    "      \n",
    "    # getter method\n",
    "    def get_age(self):\n",
    "        return self._age\n",
    "      \n",
    "    # setter method\n",
    "    def set_age(self, x):\n",
    "        self._age = x\n",
    "  \n",
    "him = age()\n",
    "  \n",
    "him.set_age(21)\n",
    "  \n",
    "\n",
    "print(him.get_age())\n",
    "print(him._age)"
   ]
  },
  {
   "cell_type": "markdown",
   "id": "f59e2d07-304b-4a86-ab4b-8c2a54470079",
   "metadata": {},
   "source": [
    "# what is multiple inheritance."
   ]
  },
  {
   "cell_type": "code",
   "execution_count": null,
   "id": "7aadf8e2-7001-40bf-a4a8-ef24e0c43561",
   "metadata": {},
   "outputs": [],
   "source": [
    "A class can be derived from more than one superclass in Python. \n",
    "This is called multiple inheritance.\n",
    "The derived class inherits all the features of the base case."
   ]
  },
  {
   "cell_type": "code",
   "execution_count": 15,
   "id": "cfe8fb1b-949b-4e1d-abc3-67edd920a044",
   "metadata": {},
   "outputs": [],
   "source": [
    "class Class1:\n",
    "    def m(self):\n",
    "        print(\"In Class1\")\n",
    "       \n",
    "class Class2(Class1):\n",
    "    def m(self):\n",
    "        print(\"In Class2\")\n",
    " \n",
    "class Class3(Class1):\n",
    "    def m(self):\n",
    "         print(\"In Class3\")    \n",
    "     \n",
    "class Class4(Class2, Class3):\n",
    "    def m(self):\n",
    "        print(\"In Class4\")  \n",
    " "
   ]
  },
  {
   "cell_type": "code",
   "execution_count": 11,
   "id": "7c6d3a26-d470-409f-87e8-474e59fea965",
   "metadata": {},
   "outputs": [
    {
     "name": "stdout",
     "output_type": "stream",
     "text": [
      "In Class4\n"
     ]
    }
   ],
   "source": [
    "obj = Class4()\n",
    "obj.m()"
   ]
  },
  {
   "cell_type": "code",
   "execution_count": 12,
   "id": "aaf64daa-c885-400a-a293-94754a4b6068",
   "metadata": {},
   "outputs": [
    {
     "name": "stdout",
     "output_type": "stream",
     "text": [
      "In Class2\n"
     ]
    }
   ],
   "source": [
    "Class2.m(obj)"
   ]
  },
  {
   "cell_type": "code",
   "execution_count": 13,
   "id": "91d6d460-fcaa-4a1a-a916-9adb1241b98d",
   "metadata": {},
   "outputs": [
    {
     "name": "stdout",
     "output_type": "stream",
     "text": [
      "In Class3\n"
     ]
    }
   ],
   "source": [
    "Class3.m(obj)"
   ]
  },
  {
   "cell_type": "code",
   "execution_count": 14,
   "id": "bfb1cbb6-e11b-4acb-9f83-945ee2394ffe",
   "metadata": {},
   "outputs": [
    {
     "name": "stdout",
     "output_type": "stream",
     "text": [
      "In Class1\n"
     ]
    }
   ],
   "source": [
    "Class1.m(obj)"
   ]
  },
  {
   "cell_type": "markdown",
   "id": "1f12339e-6061-4deb-8a57-fb7221a8bb97",
   "metadata": {},
   "source": [
    "# create a vehicle class with an init method having instance variables as name_as_of_vehicle,max_speed and avg_of_vehice."
   ]
  },
  {
   "cell_type": "code",
   "execution_count": 14,
   "id": "499c3347-09c4-4bb3-acb1-11f543f6eb48",
   "metadata": {},
   "outputs": [],
   "source": [
    "class vehicle :\n",
    "    def __init__(self,vehicle_name,max_speed,avg_speed):\n",
    "        \n",
    "        self.__vehicle_name = vehicle_name\n",
    "        self.__max_speed = 200\n",
    "        self.__avg_of_vehicle = 14\n",
    "   "
   ]
  },
  {
   "cell_type": "code",
   "execution_count": 6,
   "id": "e83b6520-412b-4973-a04e-8cacd139ae62",
   "metadata": {},
   "outputs": [],
   "source": [
    "v =vehicle(\"hector\",200,14)"
   ]
  },
  {
   "cell_type": "code",
   "execution_count": 7,
   "id": "132ac74b-83f4-4954-b586-9510fdaf29bb",
   "metadata": {},
   "outputs": [
    {
     "data": {
      "text/plain": [
       "'hector'"
      ]
     },
     "execution_count": 7,
     "metadata": {},
     "output_type": "execute_result"
    }
   ],
   "source": [
    "v._vehicle__vehicle_name"
   ]
  },
  {
   "cell_type": "code",
   "execution_count": 8,
   "id": "40b21805-8086-48af-9822-5eece84ac857",
   "metadata": {},
   "outputs": [
    {
     "data": {
      "text/plain": [
       "200"
      ]
     },
     "execution_count": 8,
     "metadata": {},
     "output_type": "execute_result"
    }
   ],
   "source": [
    "v._vehicle__max_speed"
   ]
  },
  {
   "cell_type": "code",
   "execution_count": null,
   "id": "483bb1f3-7500-419f-ab07-770ede67ed57",
   "metadata": {},
   "outputs": [],
   "source": []
  }
 ],
 "metadata": {
  "kernelspec": {
   "display_name": "Python 3 (ipykernel)",
   "language": "python",
   "name": "python3"
  },
  "language_info": {
   "codemirror_mode": {
    "name": "ipython",
    "version": 3
   },
   "file_extension": ".py",
   "mimetype": "text/x-python",
   "name": "python",
   "nbconvert_exporter": "python",
   "pygments_lexer": "ipython3",
   "version": "3.10.8"
  }
 },
 "nbformat": 4,
 "nbformat_minor": 5
}
